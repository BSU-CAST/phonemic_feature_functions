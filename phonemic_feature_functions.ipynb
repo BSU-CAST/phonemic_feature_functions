{
 "cells": [
  {
   "cell_type": "markdown",
   "id": "0d9cd32b",
   "metadata": {},
   "source": [
    "## Letter-Name Alphabetic Stage Functions"
   ]
  },
  {
   "cell_type": "code",
   "execution_count": null,
   "id": "691d6382",
   "metadata": {},
   "outputs": [],
   "source": [
    "def check_CVC_short(dataset):\n",
    "    \n",
    "    CVC_short = []\n",
    "    for row in tqdm(dataset['ipa']):\n",
    "        cvc = 0\n",
    "        total_words = 0\n",
    "        for word in row:\n",
    "            total_words += 1\n",
    "            if re.search('^[btkzɹsjmfgndɫwpθvhʃð][btkzɹsjmfgndɫwpθvhʃðʒŋ]*[ɪɑæəʊɛ][btkzɹsjmfgndɫwpθvhʃðʒŋ]*[btkzɹsjmfgndɫwpθvhʃðʒŋ]$', word):\n",
    "                cvc += 1\n",
    "        \n",
    "        CVC_short.append(cvc / total_words)\n",
    "    \n",
    "    return CVC_short"
   ]
  }
 ],
 "metadata": {
  "kernelspec": {
   "display_name": "Python 3 (ipykernel)",
   "language": "python",
   "name": "python3"
  },
  "language_info": {
   "codemirror_mode": {
    "name": "ipython",
    "version": 3
   },
   "file_extension": ".py",
   "mimetype": "text/x-python",
   "name": "python",
   "nbconvert_exporter": "python",
   "pygments_lexer": "ipython3",
   "version": "3.10.9"
  }
 },
 "nbformat": 4,
 "nbformat_minor": 5
}
